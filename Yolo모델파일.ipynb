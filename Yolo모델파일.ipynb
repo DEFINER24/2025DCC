{
  "cells": [
    {
      "cell_type": "markdown",
      "metadata": {
        "id": "view-in-github",
        "colab_type": "text"
      },
      "source": [
        "<a href=\"https://colab.research.google.com/github/DEFINER24/2025DCC/blob/main/Yolo%EB%AA%A8%EB%8D%B8%ED%8C%8C%EC%9D%BC.ipynb\" target=\"_parent\"><img src=\"https://colab.research.google.com/assets/colab-badge.svg\" alt=\"Open In Colab\"/></a>"
      ]
    },
    {
      "cell_type": "markdown",
      "metadata": {
        "id": "bP_5EISC4vmF"
      },
      "source": [
        "# YOLO 모델 파일\n",
        "## 0. 구글 드라이브 마운트 및 압축 해제"
      ]
    },
    {
      "cell_type": "code",
      "execution_count": null,
      "metadata": {
        "colab": {
          "background_save": true,
          "base_uri": "https://localhost:8080/"
        },
        "id": "V4-hPB4E4tDL",
        "outputId": "3eb4c77a-51e3-46f5-d175-d8ca35902c92"
      },
      "outputs": [
        {
          "name": "stdout",
          "output_type": "stream",
          "text": [
            "Mounted at /content/drive\n"
          ]
        }
      ],
      "source": [
        "# ==========================================================\n",
        "# 0. 구글 드라이브 마운트 및 압축 해제\n",
        "# ==========================================================\n",
        "from google.colab import drive\n",
        "drive.mount('/content/drive')\n",
        "\n",
        "import zipfile, os\n",
        "from pathlib import Path\n",
        "\n",
        "# ZIP 파일 경로 지정\n",
        "zip_path = '/content/drive/MyDrive/model_data/Model_data.zip'\n",
        "extract_path = '/content/drive/MyDrive/data_model'\n",
        "\n",
        "# 압축 해제\n",
        "if os.path.exists(zip_path):\n",
        "    with zipfile.ZipFile(zip_path, 'r') as zip_ref:\n",
        "        zip_ref.extractall(extract_path)\n",
        "    print(f\"압축 해제 완료: {extract_path}\")\n",
        "else:\n",
        "    print(\"⚠️ Model_data.zip 파일을 찾을 수 없습니다.\")\n"
      ]
    },
    {
      "cell_type": "code",
      "execution_count": null,
      "metadata": {
        "colab": {
          "base_uri": "https://localhost:8080/"
        },
        "id": "xTb6-0Md-u_b",
        "outputId": "8d0f2287-f36b-4412-a906-0ae1604a1f35"
      },
      "outputs": [
        {
          "name": "stdout",
          "output_type": "stream",
          "text": [
            "train: images 68376개, labels 60034개\n",
            "val 폴더가 존재하지 않습니다.\n",
            "test: images 8545개, labels 8545개\n"
          ]
        }
      ],
      "source": [
        "# 압축 해제 후 폴더 구조 점검\n",
        "import os\n",
        "for folder in ['train', 'val', 'test']:\n",
        "    full_path = os.path.join(extract_path, folder)\n",
        "    if os.path.exists(full_path):\n",
        "        n_img = len(os.listdir(os.path.join(full_path, 'images')))\n",
        "        n_lbl = len(os.listdir(os.path.join(full_path, 'labels')))\n",
        "        print(f\"{folder}: images {n_img}개, labels {n_lbl}개\")\n",
        "    else:\n",
        "        print(f\"{folder} 폴더가 존재하지 않습니다.\")\n"
      ]
    },
    {
      "cell_type": "markdown",
      "metadata": {
        "id": "qjVRdYHwHVLj"
      },
      "source": [
        "## 본 코드"
      ]
    },
    {
      "cell_type": "code",
      "execution_count": null,
      "metadata": {
        "id": "aU_UHkMuQuQs"
      },
      "outputs": [],
      "source": [
        "# ==========================================================\n",
        "# 0. 환경 설정 및 라이브러리 설치\n",
        "# ==========================================================\n",
        "!pip -q install ultralytics==8.3.50\n",
        "import os, json, glob, random\n",
        "from pathlib import Path\n",
        "import matplotlib.pyplot as plt\n",
        "import matplotlib.image as mpimg\n",
        "from PIL import Image\n",
        "import pandas as pd\n",
        "import numpy as np\n",
        "import torch\n",
        "from ultralytics import YOLO\n",
        "\n",
        "print(\"Torch:\", torch.__version__)\n",
        "print(\"GPU available:\", torch.cuda.is_available())\n"
      ]
    },
    {
      "cell_type": "code",
      "execution_count": null,
      "metadata": {
        "id": "JqBVO4R4Qx8g"
      },
      "outputs": [],
      "source": [
        "# ==========================================================\n",
        "# 1. 구글 드라이브 마운트 및 데이터 경로 지정\n",
        "# ==========================================================\n",
        "from google.colab import drive\n",
        "drive.mount('/content/drive')\n",
        "\n",
        "# 실제 폴더 구조 반영\n",
        "DATA_ROOT = Path('/content/drive/MyDrive/data_model').resolve()\n",
        "assert (DATA_ROOT / 'train').exists(), \"train 폴더 없음\"\n",
        "assert (DATA_ROOT / 'val').exists(), \"val 폴더 없음\"\n",
        "assert (DATA_ROOT / 'test').exists(), \"test 폴더 없음\"\n"
      ]
    },
    {
      "cell_type": "code",
      "execution_count": null,
      "metadata": {
        "id": "u4hi7tofQ0_S"
      },
      "outputs": [],
      "source": [
        "# ==========================================================\n",
        "# 2. 클래스 정의\n",
        "# ==========================================================\n",
        "CLASS_NAMES = ['관로', '박스', '맨홀', '패칭', '지하공동']\n",
        "CLASS_TO_ID = {c:i for i,c in enumerate(CLASS_NAMES)}\n",
        "print(CLASS_TO_ID)\n"
      ]
    },
    {
      "cell_type": "code",
      "execution_count": null,
      "metadata": {
        "id": "IyUoXiAlQ3YT"
      },
      "outputs": [],
      "source": [
        "\n",
        "# ==========================================================\n",
        "# 3. JSON → YOLO 포맷 변환 함수\n",
        "# ==========================================================\n",
        "def load_image_size(img_path: Path):\n",
        "    with Image.open(img_path) as im:\n",
        "        return im.size\n",
        "\n",
        "def to_yolo_bbox(bx, by, bw, bh, img_w, img_h):\n",
        "    cx = (bx + bw/2.0) / img_w\n",
        "    cy = (by + bh/2.0) / img_h\n",
        "    nw = bw / img_w\n",
        "    nh = bh / img_h\n",
        "    return max(0,min(cx,1)), max(0,min(cy,1)), max(0,min(nw,1)), max(0,min(nh,1))\n",
        "\n",
        "def parse_one_json(jpath: Path, img_dir: Path):\n",
        "    with open(jpath, 'r', encoding='utf-8') as f:\n",
        "        data = json.load(f)\n",
        "    img_name = data.get('fileName')\n",
        "    candidates = [img_dir / img_name,\n",
        "                  img_dir / (Path(img_name).stem + '.jpg'),\n",
        "                  img_dir / (Path(img_name).stem + '.png'),\n",
        "                  img_dir / (Path(img_name).stem + '.jpeg')]\n",
        "    img_path = next((c for c in candidates if c.exists()), None)\n",
        "    if img_path is None:\n",
        "        raise FileNotFoundError(f\"이미지 없음: {img_name}\")\n",
        "\n",
        "    img_w, img_h = load_image_size(img_path)\n",
        "    ann = data.get('annotation', {})\n",
        "    anns = ann if isinstance(ann, list) else [ann]\n",
        "\n",
        "    yolo_lines = []\n",
        "    for a in anns:\n",
        "        cls_str = a.get('classes') or data.get('targetType')\n",
        "        if cls_str not in CLASS_TO_ID:\n",
        "            continue\n",
        "        cid = CLASS_TO_ID[cls_str]\n",
        "        bx, by = float(a['bbox_x']), float(a['bbox_y'])\n",
        "        bw, bh = float(a['bbox_w']), float(a['bbox_h'])\n",
        "        if a.get('bbox_xM') and a.get('bbox_yM'):\n",
        "            bxM, byM = float(a['bbox_xM']), float(a['bbox_yM'])\n",
        "            bw, bh = max(1.0, bxM - bx), max(1.0, byM - by)\n",
        "        cx, cy, nw, nh = to_yolo_bbox(bx, by, bw, bh, img_w, img_h)\n",
        "        yolo_lines.append(f\"{cid} {cx:.6f} {cy:.6f} {nw:.6f} {nh:.6f}\")\n",
        "    return img_path, yolo_lines, (data.get('plane') or '').upper()\n"
      ]
    },
    {
      "cell_type": "code",
      "execution_count": null,
      "metadata": {
        "id": "iFepaWzGQ6jD"
      },
      "outputs": [],
      "source": [
        "# ==========================================================\n",
        "# 4. XZ 평면 데이터만 변환\n",
        "# ==========================================================\n",
        "def convert_split(split_name: str):\n",
        "    split_dir = DATA_ROOT / split_name\n",
        "    img_dir   = split_dir / 'images'\n",
        "    json_dir  = split_dir / 'labels'\n",
        "    yolo_lbl  = split_dir / 'labels_yolo'\n",
        "    yolo_lbl.mkdir(exist_ok=True)\n",
        "    json_files = sorted(glob.glob(str(json_dir / '*.json')))\n",
        "    ok, skip = 0, 0\n",
        "    per_class_counts = {c:0 for c in CLASS_NAMES}\n",
        "\n",
        "    for jp in json_files:\n",
        "        jp = Path(jp)\n",
        "        try:\n",
        "            img_path, yolo_lines, plane = parse_one_json(jp, img_dir)\n",
        "        except Exception as e:\n",
        "            skip += 1\n",
        "            continue\n",
        "        if plane != 'XZ':   # XZ 평면만 사용\n",
        "            skip += 1\n",
        "            continue\n",
        "\n",
        "        out_lbl = yolo_lbl / (img_path.stem + '.txt')\n",
        "        with open(out_lbl, 'w', encoding='utf-8') as f:\n",
        "            f.write('\\n'.join(yolo_lines))\n",
        "        ok += 1\n",
        "        for line in yolo_lines:\n",
        "            cid = int(line.split()[0])\n",
        "            per_class_counts[CLASS_NAMES[cid]] += 1\n",
        "    print(f\"[{split_name}] 변환 성공: {ok}, 제외: {skip}\")\n",
        "    print(f\"[{split_name}] 클래스 분포:\", per_class_counts)\n",
        "    return ok\n",
        "\n",
        "convert_split('train')\n",
        "convert_split('val')\n",
        "convert_split('test')"
      ]
    },
    {
      "cell_type": "code",
      "execution_count": null,
      "metadata": {
        "id": "HrlMP_8GQ78p"
      },
      "outputs": [],
      "source": [
        "# ==========================================================\n",
        "# 5. data.yaml 생성\n",
        "# ==========================================================\n",
        "YAML_PATH = DATA_ROOT / 'data.yaml'\n",
        "yaml_text = f\"\"\"\n",
        "path: {DATA_ROOT.as_posix()}\n",
        "train: train/images\n",
        "val: val/images\n",
        "test: test/images\n",
        "names:\n",
        "  0: 관로\n",
        "  1: 박스\n",
        "  2: 맨홀\n",
        "  3: 패칭\n",
        "  4: 지하공동\n",
        "\"\"\"\n",
        "with open(YAML_PATH, 'w', encoding='utf-8') as f:\n",
        "    f.write(yaml_text)\n",
        "print(YAML_PATH.read_text())\n"
      ]
    },
    {
      "cell_type": "code",
      "execution_count": null,
      "metadata": {
        "id": "9aAnfRMIQ-RL"
      },
      "outputs": [],
      "source": [
        "# ==========================================================\n",
        "# 6. YOLO 모델 학습 (XZ 평면 데이터만)\n",
        "# ==========================================================\n",
        "MODEL_NAME = 'yolov8m.pt'\n",
        "IMG_SIZE   = 896\n",
        "EPOCHS     = 100\n",
        "BATCH      = 16\n",
        "\n",
        "model = YOLO(MODEL_NAME)\n",
        "results = model.train(\n",
        "    data=str(YAML_PATH),\n",
        "    imgsz=IMG_SIZE,\n",
        "    epochs=EPOCHS,\n",
        "    batch=BATCH,\n",
        "    device=0 if torch.cuda.is_available() else 'cpu',\n",
        "    project=str(DATA_ROOT / 'runs'),\n",
        "    name='xz_only_yolo',\n",
        "    verbose=True\n",
        ")\n",
        "\n",
        "best_ckpt = Path(results.save_dir) / 'weights' / 'best.pt'\n",
        "print(\"최적 가중치 경로:\", best_ckpt)\n"
      ]
    },
    {
      "cell_type": "code",
      "execution_count": null,
      "metadata": {
        "id": "ZfCJVeTbRAvu"
      },
      "outputs": [],
      "source": [
        "# ==========================================================\n",
        "# 7. 검증 및 mAP@0.5 계산\n",
        "# ==========================================================\n",
        "best_model = YOLO(best_ckpt)\n",
        "val_res = best_model.val(\n",
        "    data=str(YAML_PATH),\n",
        "    split='test',\n",
        "    imgsz=IMG_SIZE,\n",
        "    device=0 if torch.cuda.is_available() else 'cpu',\n",
        "    conf=0.001,\n",
        "    iou=0.5,\n",
        "    max_det=3000\n",
        ")\n",
        "mAP50 = float(val_res.results_dict.get('metrics/mAP50', np.nan))\n",
        "print(f\"mAP@IoU=0.5: {mAP50:.4f}\")\n"
      ]
    },
    {
      "cell_type": "code",
      "execution_count": null,
      "metadata": {
        "id": "2VFA7EoHHdEh"
      },
      "outputs": [],
      "source": [
        "\n",
        "# ==========================================================\n",
        "# 8. mAP@IoU=0.5 그래프 시각화\n",
        "# ==========================================================\n",
        "val_dir = val_res.save_dir\n",
        "csv_path = os.path.join(val_dir, 'results.csv')\n",
        "if os.path.exists(csv_path):\n",
        "    df = pd.read_csv(csv_path)\n",
        "    key = [c for c in df.columns if 'mAP50' in c][0]\n",
        "    plt.figure(figsize=(8,5))\n",
        "    plt.plot(df[key], label='mAP@0.5', color='blue', linewidth=2)\n",
        "    plt.xlabel('Epoch')\n",
        "    plt.ylabel('mAP@IoU=0.5')\n",
        "    plt.title('Epoch-wise mAP@0.5 (XZ plane only)')\n",
        "    plt.grid(True)\n",
        "    plt.legend()\n",
        "    plt.show()\n",
        "else:\n",
        "    print(\"results.csv 파일이 존재하지 않습니다.\")\n"
      ]
    }
  ],
  "metadata": {
    "accelerator": "GPU",
    "colab": {
      "gpuType": "T4",
      "machine_shape": "hm",
      "provenance": [],
      "toc_visible": true,
      "include_colab_link": true
    },
    "kernelspec": {
      "display_name": "Python 3",
      "name": "python3"
    },
    "language_info": {
      "name": "python"
    }
  },
  "nbformat": 4,
  "nbformat_minor": 0
}